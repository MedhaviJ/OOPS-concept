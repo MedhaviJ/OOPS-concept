{
 "cells": [
  {
   "cell_type": "markdown",
   "metadata": {},
   "source": [
    "## Basic concept of Class\n",
    "<ol>\n",
    "    <li>Class is a plan/blueprint/template of an object.</li>\n",
    "    <li>An object is an isntance of a class and it is created outside of class.</li>\n",
    "    <li>A reference variable always points to an object.</li>\n",
    "** One class can have multiple objects.<br>\n",
    "** One object can have multiple reference variables.<br>\n",
    "e.g. Class-->Samsung TV model ABC123 plan.<br>\n",
    "     Object--> Model ABC123 which is available everywhere and has same properties.<br>\n",
    "     Reference variable--> TV remote. One TV can have multiple remotes. If it is lost or broken then we buy new remote of same model."
   ]
  },
  {
   "cell_type": "code",
   "execution_count": 14,
   "metadata": {},
   "outputs": [
    {
     "name": "stdout",
     "output_type": "stream",
     "text": [
      " *docstring- This class contains Employee details- it has 2 objects* \n",
      "Help on class Employee in module __main__:\n",
      "\n",
      "class Employee(builtins.object)\n",
      " |  *docstring- This class contains Employee details- it has 2 objects*\n",
      " |  \n",
      " |  Data descriptors defined here:\n",
      " |  \n",
      " |  __dict__\n",
      " |      dictionary for instance variables (if defined)\n",
      " |  \n",
      " |  __weakref__\n",
      " |      list of weak references to the object (if defined)\n",
      "\n"
     ]
    }
   ],
   "source": [
    "class Employee:\n",
    "    ''' *docstring- This class contains Employee details- it has 2 objects* '''\n",
    "    print(Employee.__doc__) # method to print the doc string of class\n",
    "    help(Employee) #to get the complete information of class"
   ]
  },
  {
   "cell_type": "code",
   "execution_count": 54,
   "metadata": {},
   "outputs": [
    {
     "name": "stdout",
     "output_type": "stream",
     "text": [
      "********************\n",
      "eno is: 888\n",
      "Employee number:  1\n",
      "Employee name:  Medhavi\n",
      "Employee salary:  30000\n",
      "Employee address:  Pune\n",
      "********************\n",
      "********************\n",
      "eno is: 888\n",
      "Employee number:  2\n",
      "Employee name:  Vishal\n",
      "Employee salary:  35000\n",
      "Employee address:  Dhayari\n",
      "********************\n",
      "********************\n",
      "eno is: 888\n",
      "Employee number:  3\n",
      "Employee name:  40000\n",
      "Employee salary:  Prachi\n",
      "Employee address:  Baner\n",
      "********************\n",
      "********************\n",
      "eno is: 888\n",
      "Employee number:  4\n",
      "Employee name:  Ujjwala\n",
      "Employee salary:  50000\n",
      "Employee address:  Hinjewadi\n",
      "********************\n"
     ]
    }
   ],
   "source": [
    "class Employee:\n",
    "    def __init__(self,eno,ename,esal,eaddr):\n",
    "        self.eno=eno\n",
    "        self.ename=ename\n",
    "        self.esal=esal\n",
    "        self.eaddr=eaddr\n",
    "    def info(self):\n",
    "        eno=888 #local variable\n",
    "        print('*'*20)\n",
    "        print(\"eno is:\",eno) #if you don't mention self then it will not give current object variables, it will show local variable\n",
    "        print(\"Employee number: \",self.eno)\n",
    "        print(\"Employee name: \",self.ename)\n",
    "        print(\"Employee salary: \",self.esal)\n",
    "        print(\"Employee address: \",self.eaddr)\n",
    "        print('*'*20)\n",
    "e1=Employee(1,'Medhavi',30000,'Pune') #e1 is reference variable of this object which belongs to class Employee\n",
    "e2=Employee(2,'Vishal',35000,'Dhayari')\n",
    "e3=Employee(3,4000,'Prachi','Baner') #there will be data mismatch\n",
    "e4=Employee(eno=4,esal=50000,ename='Ujjwala',eaddr='Hinjewadi') # to avoid data mismatch,use variables\n",
    "e1.info()\n",
    "e2.info() \n",
    "e3.info()\n",
    "e4.info()"
   ]
  },
  {
   "cell_type": "markdown",
   "metadata": {},
   "source": [
    "## Self variable:\n",
    "1. Self is a reference variable which always points to current object.\n",
    "2. Within class, to refer current object we should use self variable.<br>\n",
    "3.  The first argument to constructor and instance  method should be 'self'.<br>\n",
    "4. PVM-Python Virtual Machine is responsible to provide value for self argument in instance method(info method in above example) and we are not required to provide it explicitly.<br>\n",
    "**By using self we can:**<br>\n",
    "a. declare instance variable<br>\n",
    "b.  access instance varibale<br> \n",
    "\n",
    "**Instead of self, we can use any name..but it is recommended to use self.**"
   ]
  },
  {
   "cell_type": "code",
   "execution_count": 22,
   "metadata": {},
   "outputs": [
    {
     "name": "stdout",
     "output_type": "stream",
     "text": [
      "Address of self varibale is: 2797545802760\n",
      "Address of reference variable created for object is: 2797545802760\n"
     ]
    }
   ],
   "source": [
    "class Employee:\n",
    "    def __init__(self):\n",
    "        print(\"Address of self varibale is:\", id(self))\n",
    "e1=Employee()\n",
    "print(\"Address of reference variable created for object is:\", id(e1))\n",
    "\n",
    "# e2=Employee()\n",
    "# print(id(e2))"
   ]
  },
  {
   "cell_type": "markdown",
   "metadata": {},
   "source": [
    "## Constructor:\n",
    "1. The name should be always: __ __init__ __()\n",
    "2. Whenever we are creating object, constructor will be executed automatically\n",
    "3. The **main objective** is to declare and initializ instance variables.\n",
    "4. For every object, it will be **executed only once** or Contructor will be executed **once per object**.\n",
    "5. Constructor will take **at least one argument(self).**\n",
    "6. If you are not writing any constructor, python will provide **default constructor**."
   ]
  },
  {
   "cell_type": "code",
   "execution_count": 35,
   "metadata": {},
   "outputs": [
    {
     "name": "stdout",
     "output_type": "stream",
     "text": [
      "constructor execution...\n",
      "constructor execution...\n",
      "constructor execution...\n"
     ]
    }
   ],
   "source": [
    "class Test:\n",
    "    def __init__(self): #constructor always take one argument.\n",
    "        print('constructor execution...')\n",
    "t1=Test() # as we have created an object, the cosntructor will execute automatically and print the statement. \n",
    "t2=Test() #It will execute once for every object."
   ]
  },
  {
   "cell_type": "markdown",
   "metadata": {},
   "source": [
    "##### Overloaded constructors is not available in Python\n",
    "1. When there are constructors with same name having different parameters, only latest constructor will be considered.\n",
    "2. The earlier cosntructor will be overwritten by latest one and will be executed for all the objects."
   ]
  },
  {
   "cell_type": "code",
   "execution_count": 2,
   "metadata": {},
   "outputs": [
    {
     "name": "stdout",
     "output_type": "stream",
     "text": [
      "one arg--> 10\n"
     ]
    },
    {
     "ename": "TypeError",
     "evalue": "__init__() missing 1 required positional argument: 'x'",
     "output_type": "error",
     "traceback": [
      "\u001b[1;31m---------------------------------------------------------------------------\u001b[0m",
      "\u001b[1;31mTypeError\u001b[0m                                 Traceback (most recent call last)",
      "\u001b[1;32m<ipython-input-2-ff2afdd9164a>\u001b[0m in \u001b[0;36m<module>\u001b[1;34m\u001b[0m\n\u001b[0;32m      5\u001b[0m         \u001b[0mprint\u001b[0m\u001b[1;33m(\u001b[0m\u001b[1;34m'one arg-->'\u001b[0m\u001b[1;33m,\u001b[0m\u001b[0mx\u001b[0m\u001b[1;33m)\u001b[0m\u001b[1;33m\u001b[0m\u001b[1;33m\u001b[0m\u001b[0m\n\u001b[0;32m      6\u001b[0m \u001b[0mt2\u001b[0m\u001b[1;33m=\u001b[0m\u001b[0mTest\u001b[0m\u001b[1;33m(\u001b[0m\u001b[1;36m10\u001b[0m\u001b[1;33m)\u001b[0m \u001b[1;31m# as there is one parameter/arg given, 2nd cosntructor can be executed.\u001b[0m\u001b[1;33m\u001b[0m\u001b[1;33m\u001b[0m\u001b[0m\n\u001b[1;32m----> 7\u001b[1;33m \u001b[0mt1\u001b[0m\u001b[1;33m=\u001b[0m\u001b[0mTest\u001b[0m\u001b[1;33m(\u001b[0m\u001b[1;33m)\u001b[0m \u001b[1;31m#as there is no parameter given, it will throw an error and you need to provide value for x.\u001b[0m\u001b[1;33m\u001b[0m\u001b[1;33m\u001b[0m\u001b[0m\n\u001b[0m",
      "\u001b[1;31mTypeError\u001b[0m: __init__() missing 1 required positional argument: 'x'"
     ]
    }
   ],
   "source": [
    "class Test:\n",
    "    def __init__(self):\n",
    "        print(\"no arg\")\n",
    "    def __init__(self,x):\n",
    "        print('one arg-->',x)\n",
    "t2=Test(10) # as there is one parameter/arg given, 2nd cosntructor can be executed.\n",
    "t1=Test() #as there is no parameter given, it will throw an error and you need to provide value for x."
   ]
  },
  {
   "cell_type": "markdown",
   "metadata": {},
   "source": [
    "### Constructor execution:"
   ]
  },
  {
   "cell_type": "code",
   "execution_count": 42,
   "metadata": {},
   "outputs": [
    {
     "name": "stdout",
     "output_type": "stream",
     "text": [
      "constructor executed..\n",
      "Method execution..\n",
      "My name is: medhavi\n",
      "My rollno is 10\n"
     ]
    }
   ],
   "source": [
    "class Student:\n",
    "    def __init__(self,sno,sname):\n",
    "        self.sno=sno\n",
    "        self.sname=sname\n",
    "        print(\"constructor executed..\") # once you create an object, constructor is executed automatically.see O/P\n",
    "    def display(self):\n",
    "        print(\"Method execution..\")\n",
    "        print(\"My name is:\", self.sname)\n",
    "        print(\"My rollno is\", self.sno)\n",
    "s=Student(10,'medhavi')  #once this object is created, construtor has been executed.\n",
    "s.display()"
   ]
  },
  {
   "cell_type": "markdown",
   "metadata": {},
   "source": [
    "### Difference between Constructor and Method\n",
    "<table style=\"width:50%\">\n",
    "<tr>\n",
    "    <th>Method</th>\n",
    "    <th>Constructor</th>\n",
    "</tr>\n",
    "<tr>\n",
    "<td>1.The name can be anything</td>\n",
    "<td>1.It should be _ __init__ _()</td>\n",
    "</tr>\n",
    "<tr>\n",
    "<td>2.Methode will be executed only if we call</td>\n",
    "<td>2.It will be executed automatically if we are creating object</td>\n",
    "</tr>\n",
    "<tr>\n",
    "<td>3.Per object, it can be called any no of times</td>\n",
    "<td>3.Per object, it will be executed only once</td>\n",
    "</tr>\n",
    "<tr>\n",
    "<td>4.To write business logic</td>\n",
    "<td>4.To declare and initialize instance variables</td>\n",
    "</tr>"
   ]
  },
  {
   "cell_type": "markdown",
   "metadata": {},
   "source": [
    "#### 3 types of variables in Python Class:\n",
    "1. **Instance/Object level variable:**<br>\n",
    "2. **Static/Class level variable:**<br>\n",
    "3. **Local/Method Variable:**<br>\n",
    "    \n",
    "#### 3 types of methods in Python Class:\n",
    "1. **Instance methods:**<br>\n",
    "2. **Class Methods:**<br>\n",
    "3. **Static Methods:**<br>"
   ]
  },
  {
   "cell_type": "markdown",
   "metadata": {},
   "source": [
    "## **Instance/Object level Variable:** <br>\n",
    "   - Where value of variable varies from object to object. e.g. details of student-name,rollno,etc<br> \n",
    "   - For every object,separate copy will be created.<br>\n",
    "   - **Where to declare these variable?** <br>\n",
    "      a. Inside constructor using self.<br>\n",
    "      b. Inside instance method using self<br>\n",
    "      c. From outside of class by using object ref.<br>\n",
    "   - **How to access instance variable?**<br>\n",
    "      a. Within class by using self.<br>\n",
    "      b. Outside class by using object ref.<br>\n",
    "   - **How to delete instance variable?**<br>\n",
    "       a. Within class- del self.varname<br>\n",
    "       b. outside class- del objref.varname\n"
   ]
  },
  {
   "cell_type": "code",
   "execution_count": 60,
   "metadata": {},
   "outputs": [
    {
     "name": "stdout",
     "output_type": "stream",
     "text": [
      "{'name': 'Medhavi', 'rno': 10, 'marks': 100, 'age': 30}\n",
      "{'name': 'Vishal', 'rno': 20, 'hobby': 'Gaming'}\n",
      "{'name': 'Prachi', 'rno': 30, 'friend': 'medhavi'}\n",
      "rollno: 40 name: Durga\n"
     ]
    }
   ],
   "source": [
    "class Student:\n",
    "    def __init__(self,name,rno): \n",
    "        self.name=name #instance var inside constructor.\n",
    "        self.rno=rno #instance var inside constructor.\n",
    "    def info(self):\n",
    "        self.marks=100 #instance variable inside instance method\n",
    "        #print(\"no\",self.rno,\"name\",self.name,\"marks\",self.marks)\n",
    "s1=Student('Medhavi',10)\n",
    "s1.info()\n",
    "s1.age=30 #instance var outside class\n",
    "print(s1.__dict__) #it will print the values in dictionary\n",
    "\n",
    "s2=Student('Vishal',20)\n",
    "s2.hobby='Gaming'\n",
    "print(s2.__dict__)\n",
    "\n",
    "s2=Student('Prachi',30) \n",
    "s2.friend='medhavi'\n",
    "print(s2.__dict__)#the most recent object will be considered even if the two object with same refernce var is created.\n",
    "\n",
    "s3=Student('Durga',40)\n",
    "print(\"rollno:\",s3.rno,\"name:\",s3.name) #to access the instance variables outside of class"
   ]
  },
  {
   "cell_type": "code",
   "execution_count": 63,
   "metadata": {},
   "outputs": [
    {
     "name": "stdout",
     "output_type": "stream",
     "text": [
      "{'d': 40}\n"
     ]
    }
   ],
   "source": [
    "class test:\n",
    "    def __init__(self):\n",
    "        self.a=10\n",
    "        self.b=20\n",
    "        self.c=30\n",
    "        self.d=40\n",
    "    def delete(self):\n",
    "        del self.a,self.b  #to delete instance var within class\n",
    "t1=test()\n",
    "t1.delete() #to delete instance var outside of class\n",
    "del t1.c\n",
    "print(t1.__dict__)"
   ]
  },
  {
   "cell_type": "markdown",
   "metadata": {},
   "source": [
    "### Static/Class level variable:\n",
    "-For all objects, a single copy will be created at class level which is shared by all objects.e.g. College name of students<br>\n",
    "- **where to declare**<br>\n",
    "a. within the class directly from outside of any method<br>\n",
    "b. inside constructor by using class name<br>\n",
    "c. inside instance method by using class name<br>\n",
    "d. inside class method by using cls variable or class name<br>\n",
    "e. inside static method by using class name<br>\n",
    "f. from outside of class by using class name<br>\n",
    "- **how to access static variable** <br>\n",
    "a. from anywhere within the class using classname,self.<br>\n",
    "b. from classmethod using cls var or classname.<br>\n",
    "c. from outside of class by using classname or objref<br>\n",
    "- **how to modify static variables**<br>\n",
    "a. within class using classname,cls var<br>\n",
    "b. outside of class using classname only.<br>\n",
    "- **how to delete static variables**<br>\n",
    "a. within class using classname,cls var<br>\n",
    "b. outside of class using classname only.<br>"
   ]
  },
  {
   "cell_type": "code",
   "execution_count": 4,
   "metadata": {},
   "outputs": [
    {
     "name": "stdout",
     "output_type": "stream",
     "text": [
      "{'__module__': '__main__', 'cname': 'Durgasoft', '__init__': <function student.__init__ at 0x00000252555E8678>, 'm1': <function student.m1 at 0x00000252555E8708>, 'm2': <classmethod object at 0x00000252555F5288>, 'm3': <staticmethod object at 0x00000252555F5588>, '__dict__': <attribute '__dict__' of 'student' objects>, '__weakref__': <attribute '__weakref__' of 'student' objects>, '__doc__': None, 'f': 60, 'a': 50, 'b': 40, 'c': 30, 'd': 20, 'e': 10}\n",
      "Medha 101 Durgasoft\n",
      "Prachi 102 Durgasoft\n"
     ]
    }
   ],
   "source": [
    "class student:\n",
    "    cname='Durgasoft' #static variable\n",
    "    def __init__(self,name,rollno):\n",
    "        self.name=name #instance var\n",
    "        self.rollno=rollno #instance var\n",
    "        student.a=50 #static variable\n",
    "    def m1(self):\n",
    "        student.b=40 #static variable\n",
    "    @classmethod\n",
    "    def m2(cls):\n",
    "        cls.c=30 #static variable\n",
    "        student.d=20 #static variable\n",
    "    @staticmethod\n",
    "    def m3():\n",
    "        student.e=10\n",
    "student.f=60 #static variable\n",
    "S1=student('medha',10)\n",
    "S1.m1()\n",
    "S1.m2()\n",
    "S1.m3()\n",
    "print(student.__dict__)\n",
    "s1=student('Medha',101)\n",
    "s2=student('Prachi',102)\n",
    "print(s1.name,s1.rollno,student.cname)\n",
    "print(s2.name,s2.rollno,student.cname)   "
   ]
  },
  {
   "cell_type": "code",
   "execution_count": 8,
   "metadata": {},
   "outputs": [
    {
     "name": "stdout",
     "output_type": "stream",
     "text": [
      "access class variable inside constructor\n",
      "10\n",
      "10\n",
      "access class variable inside instance method\n",
      "10\n",
      "10\n",
      "access class variable inside class method\n",
      "10\n",
      "10\n",
      "access class variable inside static method\n",
      "10\n",
      "10\n",
      "10\n"
     ]
    }
   ],
   "source": [
    "class test:\n",
    "    a=10\n",
    "    def __init__(self):\n",
    "        print(\"access class variable inside constructor\")\n",
    "        print(test.a)\n",
    "        print(self.a)\n",
    "    def m1(self):\n",
    "        print(\"access class variable inside instance method\")\n",
    "        print(test.a)\n",
    "        print(self.a)\n",
    "    @classmethod\n",
    "    def m2(cls):\n",
    "        print(\"access class variable inside class method\")\n",
    "        print(cls.a)\n",
    "        print(test.a)\n",
    "    @staticmethod\n",
    "    def m3():\n",
    "        print(\"access class variable inside static method\")\n",
    "        print(test.a)\n",
    "t=test()\n",
    "t.m1()\n",
    "t.m2()\n",
    "t.m3()\n",
    "print(\"access class variable outside of class\")\n",
    "print(test.a)\n",
    "print(t.a)"
   ]
  },
  {
   "cell_type": "code",
   "execution_count": 34,
   "metadata": {},
   "outputs": [
    {
     "name": "stdout",
     "output_type": "stream",
     "text": [
      "original class var:  10\n",
      "modified class variable inside constructor:  20\n",
      "instance variable:  5\n",
      "modified class variable inside class method:  40\n",
      "modified class variable inside static method:  50\n",
      "modified class variable outside class:  60\n"
     ]
    }
   ],
   "source": [
    "class test:\n",
    "    a=10\n",
    "    def __init__(self):\n",
    "        self.a=5\n",
    "        test.a=20\n",
    "    @classmethod\n",
    "    def m1(cls):\n",
    "        cls.a=30 #this will be overwritten once below line is executed\n",
    "        test.a=40\n",
    "    @staticmethod\n",
    "    def m2():\n",
    "        test.a=50\n",
    "print(\"original class var: \",test.a)\n",
    "t=test()\n",
    "print(\"modified class variable inside constructor: \",test.a)\n",
    "print(\"instance variable: \",t.a)\n",
    "t.m1()\n",
    "print(\"modified class variable inside class method: \",test.a)\n",
    "t.m2()\n",
    "print(\"modified class variable inside static method: \",test.a)\n",
    "test.a=60\n",
    "print(\"modified class variable outside class: \",test.a)"
   ]
  },
  {
   "cell_type": "code",
   "execution_count": 57,
   "metadata": {},
   "outputs": [
    {
     "name": "stdout",
     "output_type": "stream",
     "text": [
      "{'__module__': '__main__', 'a': 10, 'b': 10, 'c': 30, '__init__': <function test.__init__ at 0x0000025255622708>, 'm1': <function test.m1 at 0x0000025255622678>, '__dict__': <attribute '__dict__' of 'test' objects>, '__weakref__': <attribute '__weakref__' of 'test' objects>, '__doc__': None}\n",
      "class variable is deleted from constructor\n",
      "{'__module__': '__main__', 'b': 10, 'c': 30, '__init__': <function test.__init__ at 0x0000025255622708>, 'm1': <function test.m1 at 0x0000025255622678>, '__dict__': <attribute '__dict__' of 'test' objects>, '__weakref__': <attribute '__weakref__' of 'test' objects>, '__doc__': None}\n",
      "instance variable C is:  30\n",
      "class variable b is deleted from instance method\n",
      "class variable:  30\n",
      "class variable deleted from outside of class\n"
     ]
    }
   ],
   "source": [
    "class test:\n",
    "    a=10\n",
    "    b=10\n",
    "    c=30\n",
    "    def __init__(self):\n",
    "        del test.a\n",
    "        print(\"class variable is deleted from constructor\")\n",
    "    def m1(self):\n",
    "        self.c=30\n",
    "        print(\"instance variable C is: \",self.c)\n",
    "        del test.b\n",
    "        print(\"class variable b is deleted from instance method\")\n",
    "print(test.__dict__)\n",
    "t=test() # after constructor execution, a will be deleted. Please check below output\n",
    "print(test.__dict__)\n",
    "t.m1()\n",
    "print(\"class variable: \", test.c )\n",
    "del test.c\n",
    "print(\"class variable deleted from outside of class\")"
   ]
  },
  {
   "cell_type": "markdown",
   "metadata": {},
   "source": [
    "### Local/Method Variable:\n",
    "- Variables which are declared within constructor or method for temporary purpose.<br>\n",
    "- Local variables can be accessed within that particular method only.<br>\n",
    "- One should not use self,cls,classname,refobj to access the local variable<br>\n",
    "### Global Variable:\n",
    "- It can be declared using keyword: 'global'\n",
    "- If there exists a global variable within the method then it will be considered only if there is no local variable present.<br>\n",
    "- Global variables are mostly used in functional programming.<br>"
   ]
  },
  {
   "cell_type": "code",
   "execution_count": 70,
   "metadata": {},
   "outputs": [
    {
     "name": "stdout",
     "output_type": "stream",
     "text": [
      "For addition, global variable y is considered as local var y is not present:  40\n",
      "printing local variable within method:  20\n",
      "Average of the values:  25.0\n",
      "as x is accessed from outside of method, global variable is printed:  10\n",
      "global variable can be accessed from anywhere:  50\n"
     ]
    }
   ],
   "source": [
    "global x,y\n",
    "x=10 #global variable\n",
    "class test:\n",
    "    y=20\n",
    "    def average(self,list):\n",
    "        global z\n",
    "        z=50\n",
    "        x=20 #local variable\n",
    "        sum1=x+y\n",
    "        print(\"For addition, global variable y is considered as local var y is not present: \",sum1)\n",
    "        print(\"printing local variable within method: \",x) #as x is accessed within method, local variable will be printed\n",
    "        result=sum(list)/len(list) # result is local variable here.\n",
    "        print(\"Average of the values: \",result)\n",
    "t=test()\n",
    "t.average([10,20,30,40])\n",
    "print(\"as x is accessed from outside of method, global variable is printed: \",x) \n",
    "print(\"global variable can be accessed from anywhere: \", z)"
   ]
  },
  {
   "cell_type": "markdown",
   "metadata": {},
   "source": [
    "###  Bank application using classes and objects"
   ]
  },
  {
   "cell_type": "code",
   "execution_count": null,
   "metadata": {},
   "outputs": [],
   "source": []
  },
  {
   "cell_type": "code",
   "execution_count": 5,
   "metadata": {},
   "outputs": [
    {
     "name": "stdout",
     "output_type": "stream",
     "text": [
      "Welcome to  Sate Bank of India\n",
      "Enter you name:medha\n",
      "D-Deposite\n",
      "W-withdraw\n",
      "E-Exit\n",
      "Choose your option:d\n",
      "Enter the amount to deposite:10\n",
      "After deposite, the balance is:  10.0\n",
      "D-Deposite\n",
      "W-withdraw\n",
      "E-Exit\n",
      "Choose your option:w\n",
      "Enter the amount to withdraw:20\n",
      "Insufficient balance, cannot perform this operation\n",
      "D-Deposite\n",
      "W-withdraw\n",
      "E-Exit\n",
      "Choose your option:e\n",
      "Thank you for Banking with Sate Bank of India\n"
     ]
    }
   ],
   "source": [
    "import sys\n",
    "class Customer:\n",
    "    '''Customer class with bank related operations'''\n",
    "    bankname='Sate Bank of India'\n",
    "    def __init__(self,name,balance=0):\n",
    "        self.name=name\n",
    "        self.balance=balance\n",
    "    def deposite(self,amt):\n",
    "        self.balance=self.balance+amt\n",
    "        print(\"After deposite, the balance is: \",self.balance)\n",
    "    def withdraw(self,amt):\n",
    "        if amt>self.balance:\n",
    "            print(\"Insufficient balance, cannot perform this operation\")\n",
    "        else:\n",
    "            self.balance=self.balance-amt\n",
    "            print(\"After withdrawal,the balance is: \",self.balance)\n",
    "print(\"Welcome to \",Customer.bankname)\n",
    "name=input(\"Enter you name:\")\n",
    "c1=Customer(name)\n",
    "while True:\n",
    "    print(\"D-Deposite\\nW-withdraw\\nE-Exit\")\n",
    "    option=input(\"Choose your option:\")\n",
    "    if option=='D' or option==\"d\":\n",
    "        amt=float(input(\"Enter the amount to deposite:\"))\n",
    "        c1.deposite(amt)\n",
    "    elif option.upper()=='W':\n",
    "        amt=float(input(\"Enter the amount to withdraw:\"))\n",
    "        c1.withdraw(amt)\n",
    "    elif option=='E'or option=='e':\n",
    "        print(\"Thank you for Banking with\",Customer.bankname)\n",
    "        break\n",
    "    else:\n",
    "        print(\"Choose valid option\")"
   ]
  },
  {
   "cell_type": "markdown",
   "metadata": {},
   "source": [
    "### Instance Method:\n",
    "- Method where at least one instance variable is used.<br>\n",
    "- First argument to this method should be self which is ppointing to current object.<br>\n",
    "- To call instance method inside the method use self, outside of class use objref<br>"
   ]
  },
  {
   "cell_type": "code",
   "execution_count": 12,
   "metadata": {},
   "outputs": [
    {
     "name": "stdout",
     "output_type": "stream",
     "text": [
      "Enter no of Students:2\n",
      "********************\n",
      "Enter Student name: Sunny\n",
      "Enter Student marks:70\n",
      "Hi, Sunny\n",
      "Your marks are: 70\n",
      "Your Grade is First Grade.\n",
      "********************\n",
      "Enter Student name: Bunny\n",
      "Enter Student marks:35\n",
      "Hi, Bunny\n",
      "Your marks are: 35\n",
      "You got Third Grade.\n",
      "********************\n"
     ]
    }
   ],
   "source": [
    "class Student:\n",
    "    def __init__(self,name,marks):\n",
    "        self.name=name\n",
    "        self.marks=marks\n",
    "    def display(self):\n",
    "        print(\"Hi,\",self.name)\n",
    "        print(\"Your marks are:\",self.marks)\n",
    "    def grade(self):\n",
    "        if self.marks>=60:\n",
    "            print(\"Your Grade is First Grade.\")\n",
    "        elif self.marks>=50:\n",
    "            print(\"Your Grade is Second Grade.\")\n",
    "        elif self.marks>=35:\n",
    "            print(\"You got Third Grade.\")\n",
    "        else:\n",
    "            print(\"You are Failed.\")\n",
    "n=int(input(\"Enter no of Students:\"))\n",
    "print('*'*20)\n",
    "for i in range(n):\n",
    "    name=input(\"Enter Student name: \")\n",
    "    marks=int(input(\"Enter Student marks:\"))\n",
    "    s=Student(name,marks)\n",
    "    s.display()\n",
    "    s.grade()\n",
    "    print('*'*20)"
   ]
  },
  {
   "cell_type": "markdown",
   "metadata": {},
   "source": [
    "### Setter and Getter methods: \n",
    "- It is an alternative to constructor.<br>\n",
    "- Setter method is used to set the data to the object.<br>\n",
    "- Getter method is used get the data from the object.<br>\n",
    "- The biggest advantage is security- data encapsulation.<br>\n",
    "    - print(s.name) -This is direct access to data without validation. <br>\n",
    "    - print(s.getName()) - This will hide the data behind methods and we can perform validation. <br>\n",
    "    - We can perform validation inside a constructor as well. But the main purpose of contructor is Initialization. Hence, it is recommended to perform validation outside constructor.<br>\n",
    "- This will increase the lines of code and will increase execution time.<br>\n",
    "- Syntax:<br>\n",
    "    - def setVarName(self,VarName):<br>\n",
    "        self.VarName=VarName<br>\n",
    "    - def getVarName(self):<br>\n",
    "        return self.VarName<br>"
   ]
  },
  {
   "cell_type": "code",
   "execution_count": 13,
   "metadata": {},
   "outputs": [
    {
     "name": "stdout",
     "output_type": "stream",
     "text": [
      "Enter no of Students:2\n",
      "********************\n",
      "Enter Student name: Sunny\n",
      "Enter Student marks:40\n",
      "Hi, Sunny\n",
      "Your Marks are: 40\n",
      "********************\n",
      "Enter Student name: Bunny\n",
      "Enter Student marks:70\n",
      "Hi, Bunny\n",
      "Your Marks are: 70\n",
      "********************\n"
     ]
    }
   ],
   "source": [
    "class Student:\n",
    "    def setName(self,name):\n",
    "        self.name=name\n",
    "    def getName(self):\n",
    "        return self.name\n",
    "    def setMarks(self,marks):\n",
    "        self.marks=marks\n",
    "    def getMarks(self):\n",
    "        return self.marks\n",
    "n=int(input(\"Enter no of Students:\"))\n",
    "print('*'*20)\n",
    "for i in range(n):\n",
    "    name=input(\"Enter Student name: \")\n",
    "    marks=int(input(\"Enter Student marks:\"))\n",
    "    s=Student()\n",
    "    s.setName(name)\n",
    "    s.setMarks(marks)\n",
    "    print('Hi,',s.getName())\n",
    "    print('Your Marks are:',s.getMarks())\n",
    "    print('*'*20)"
   ]
  },
  {
   "cell_type": "markdown",
   "metadata": {},
   "source": [
    "### Class Method:\n",
    "- If we are using only static variables inside a method then it should be declared as class method.<br>\n",
    "- For every class, PVM will create one class class object to hold class level information.<br>\n",
    "- There should be at least one argument- cls. By using cls, we can access static variables.<br>\n",
    "- Reference variable for that class object will be maintained by PVM-(**cls**)<br>\n",
    "- To declare class level method use decorator- <i>__@classmethod__</i>\n",
    "- The method will be called directly by the class name anywhere without creating any object. This will internally decrease the execution time of the program.<br>"
   ]
  },
  {
   "cell_type": "markdown",
   "metadata": {},
   "source": [
    "### Difference between Instance Method and Class Method\n",
    "<table style=\"width:50%\">\n",
    "<tr>\n",
    "    <th>Instance Method</th>\n",
    "    <th>Class Method</th>\n",
    "</tr>\n",
    "<tr>\n",
    "<td>1.If we are using at least one instance variable then compulsory we shuld declare that method as instance method</td>\n",
    "<td>1.If we are using only static variables then it is highly recommended to declare that method as Class Method</td>\n",
    "</tr>\n",
    "<tr>\n",
    "<td>2.To declare instance method, we are not required to use any decorator</td>\n",
    "<td>2.To declare class method, compulsory we should use @classmethod decorator</td>\n",
    "</tr>\n",
    "<tr>\n",
    "<td>3.The 1st arg should be self,which is reference to current object and byusing self, we can access instance variables</td>\n",
    "<td>3.The 1st arg should be cls which is reference variable to current class obj and by using cls we can access static variables</td>\n",
    "</tr>\n",
    "<tr>\n",
    "<td>4.We can access both isntance and static variables inside an isntance method.</td>\n",
    "<td>4.We can only access static variables inside a class method.</td>\n",
    "</tr>\n",
    "<tr>\n",
    "<td>5.We can call this method by using obj reference.</td>\n",
    "<td>5.We can call this method by using obj ref or by using class name but it is recommeded to use classname to differentiate class methods and instance methods.</td>\n",
    "</tr>"
   ]
  },
  {
   "cell_type": "code",
   "execution_count": 14,
   "metadata": {},
   "outputs": [
    {
     "name": "stdout",
     "output_type": "stream",
     "text": [
      "Dog walks with 4 legs\n"
     ]
    }
   ],
   "source": [
    "class Animal:\n",
    "    legs=4 #static variable\n",
    "    @classmethod\n",
    "    def walk(cls,name):\n",
    "        print(\"{} walks with {} legs\".format(name,cls.legs))\n",
    "Animal.walk('Dog')\n",
    "\n",
    "#as there is no instance variable used, we can declare this method as class method.\n",
    "#Also, the static variable can be called directly using cls so no need to create any object."
   ]
  },
  {
   "cell_type": "markdown",
   "metadata": {},
   "source": [
    "**A simple program to track no of objects created.**"
   ]
  },
  {
   "cell_type": "code",
   "execution_count": 18,
   "metadata": {},
   "outputs": [
    {
     "name": "stdout",
     "output_type": "stream",
     "text": [
      "The no of object created: 4\n"
     ]
    }
   ],
   "source": [
    "class Test:\n",
    "    count=0\n",
    "    def __init__(self):\n",
    "        Test.count=Test.count+1\n",
    "    @classmethod\n",
    "    def getNoOfObjects(cls):\n",
    "        print(\"The no of object created:\",cls.count)\n",
    "t1=Test()\n",
    "t2=Test()\n",
    "t3=Test()\n",
    "t4=Test()\n",
    "Test.getNoOfObjects()"
   ]
  },
  {
   "cell_type": "markdown",
   "metadata": {},
   "source": [
    "### Static Method:\n",
    "- This is general utility method which do not use instance variable/class variable inside a method body.<br>\n",
    "- The methods which do not use object or reference vars.\n",
    "- To declare these methods, use- @staticmethod. e.g. **s1**.findAvg(10,20)** --called using reference var s1.\n",
    "- If you do not specify decorateor(@staticmethod), then it should be called by using class name and not reference/object. e.g. **Student**.findAvg(10,20) --called using class Student."
   ]
  },
  {
   "cell_type": "code",
   "execution_count": 24,
   "metadata": {},
   "outputs": [
    {
     "name": "stdout",
     "output_type": "stream",
     "text": [
      "The sum is : 30\n",
      "The product is : 200\n",
      "The sum is : -10\n"
     ]
    }
   ],
   "source": [
    "class test:\n",
    "    @staticmethod\n",
    "    def sum(x,y):\n",
    "        print(\"The sum is :\",x+y)\n",
    "    @staticmethod\n",
    "    def product(x,y):\n",
    "        print(\"The product is :\",x*y)\n",
    "    @staticmethod\n",
    "    def subtraction(x,y):\n",
    "        print(\"The sum is :\",x-y)\n",
    "test.sum(10,20)\n",
    "test.product(10,20)\n",
    "test.subtraction(10,20)"
   ]
  },
  {
   "cell_type": "code",
   "execution_count": 27,
   "metadata": {},
   "outputs": [
    {
     "ename": "TypeError",
     "evalue": "m1() takes 0 positional arguments but 1 was given",
     "output_type": "error",
     "traceback": [
      "\u001b[1;31m---------------------------------------------------------------------------\u001b[0m",
      "\u001b[1;31mTypeError\u001b[0m                                 Traceback (most recent call last)",
      "\u001b[1;32m<ipython-input-27-6c6adbeed1f6>\u001b[0m in \u001b[0;36m<module>\u001b[1;34m\u001b[0m\n\u001b[0;32m      3\u001b[0m         \u001b[0mprint\u001b[0m\u001b[1;33m(\u001b[0m\u001b[1;34m'some method'\u001b[0m\u001b[1;33m)\u001b[0m\u001b[1;33m\u001b[0m\u001b[1;33m\u001b[0m\u001b[0m\n\u001b[0;32m      4\u001b[0m \u001b[0mt\u001b[0m\u001b[1;33m=\u001b[0m\u001b[0mtest\u001b[0m\u001b[1;33m(\u001b[0m\u001b[1;33m)\u001b[0m\u001b[1;33m\u001b[0m\u001b[1;33m\u001b[0m\u001b[0m\n\u001b[1;32m----> 5\u001b[1;33m \u001b[0mt\u001b[0m\u001b[1;33m.\u001b[0m\u001b[0mm1\u001b[0m\u001b[1;33m(\u001b[0m\u001b[1;33m)\u001b[0m\u001b[1;33m\u001b[0m\u001b[1;33m\u001b[0m\u001b[0m\n\u001b[0m\u001b[0;32m      6\u001b[0m \u001b[1;31m#in the above code, we have not declared the method as @static method hence PVM will consider this method as instance method.\u001b[0m\u001b[1;33m\u001b[0m\u001b[1;33m\u001b[0m\u001b[1;33m\u001b[0m\u001b[0m\n\u001b[0;32m      7\u001b[0m \u001b[1;31m#But for instance method, 1st arh should be compuslory self. So this will give an error.\u001b[0m\u001b[1;33m\u001b[0m\u001b[1;33m\u001b[0m\u001b[1;33m\u001b[0m\u001b[0m\n",
      "\u001b[1;31mTypeError\u001b[0m: m1() takes 0 positional arguments but 1 was given"
     ]
    }
   ],
   "source": [
    "class test:\n",
    "    def m1():\n",
    "        print('some method')\n",
    "t=test()\n",
    "t.m1()\n",
    "#in the above code, we have not declared the method as @static ethod hence PVM will consider this method as instance method.\n",
    "#But for instance method, 1st arg should be compuslory self. So this will give an error."
   ]
  },
  {
   "cell_type": "code",
   "execution_count": 28,
   "metadata": {},
   "outputs": [
    {
     "name": "stdout",
     "output_type": "stream",
     "text": [
      "some method\n"
     ]
    }
   ],
   "source": [
    "class test:\n",
    "    def m1():\n",
    "        print('some method')\n",
    "test.m1()\n",
    "#In above case, we have called this method using class name, so PVM will consider this method as static method."
   ]
  },
  {
   "cell_type": "code",
   "execution_count": 30,
   "metadata": {},
   "outputs": [
    {
     "name": "stdout",
     "output_type": "stream",
     "text": [
      "some method\n",
      "some method\n"
     ]
    }
   ],
   "source": [
    "class test:\n",
    "    @staticmethod\n",
    "    def m1():\n",
    "        print('some method')\n",
    "t=test()\n",
    "t.m1()\n",
    "test.m1()\n",
    "\n",
    "#In the above code, we have declared the method as @staticmethod and then it can be called either by objref or cls name."
   ]
  },
  {
   "cell_type": "markdown",
   "metadata": {},
   "source": [
    "- **How to access members of  one class inside another class**"
   ]
  },
  {
   "cell_type": "code",
   "execution_count": 1,
   "metadata": {},
   "outputs": [
    {
     "name": "stdout",
     "output_type": "stream",
     "text": [
      "Employee Number:  872425\n",
      "Employee Name:  Medhavi\n",
      "Employee Salary:  40000\n"
     ]
    }
   ],
   "source": [
    "class Employee:\n",
    "    def __init__(self,eno,ename,esal):\n",
    "        self.eno=eno\n",
    "        self.ename=ename\n",
    "        self.esal=esal\n",
    "    def display(self):\n",
    "        print(\"Employee Number: \",self.eno)\n",
    "        print(\"Employee Name: \",self.ename)\n",
    "        print(\"Employee Salary: \",self.esal)\n",
    "class Update:\n",
    "    def modify(emp):  #static method\n",
    "        emp.esal=emp.esal+10000\n",
    "        emp.display()\n",
    "e=Employee(872425,'Medhavi',30000)\n",
    "Update.modify(e)"
   ]
  },
  {
   "cell_type": "markdown",
   "metadata": {},
   "source": [
    "### Inner Classes:\n",
    "- The class which is declared inside another class.<br>\n",
    "- Without existing one type of object,if there is no chance of existing another type of object then we shoud go for inner classes.<br>\n",
    "   For e.g. without existing Car object, there is no chance of existing Engine Object as they are associated with each other.<br>\n",
    "- Inner class object is always associated with outer class object.<br>\n",
    "- We cannot access inner class object directly outside of the class<br>\n",
    "- To access inner class methods, Outer class object should be created first followed by inner class object and then the inner class method can be called.<br>\n",
    "- There are 3ways to call inner class method. <br>\n",
    "o=outer()<br>\n",
    "i=Inner()<br>\n",
    "i.m1()<br>\n",
    "**OR**<br>\n",
    "i=Outer().Inner()<br>\n",
    "i.m1()<br>\n",
    "**OR**<br>\n",
    "Outer().Inner().m1()<br>\n",
    "- Outer class method cannot be called using inner class object.<br>"
   ]
  },
  {
   "cell_type": "code",
   "execution_count": 6,
   "metadata": {},
   "outputs": [
    {
     "name": "stdout",
     "output_type": "stream",
     "text": [
      "Outer class object creation\n",
      "Inner class object creation\n",
      "inner class method\n"
     ]
    }
   ],
   "source": [
    "class Outer:\n",
    "    def __init__(self):\n",
    "        print('Outer class object creation')\n",
    "        \n",
    "    class Inner:\n",
    "        def __init__(self):\n",
    "            print('Inner class object creation')\n",
    "        def m1(self):\n",
    "            print('inner class method')\n",
    "o=Outer() #Outer class object should be created first.\n",
    "i=o.Inner() #create inner class object using outer class object.\n",
    "i.m1()"
   ]
  },
  {
   "cell_type": "code",
   "execution_count": 19,
   "metadata": {},
   "outputs": [
    {
     "name": "stdout",
     "output_type": "stream",
     "text": [
      "Name: Medhavi\n",
      "Date of birth: 26/4/1997\n"
     ]
    }
   ],
   "source": [
    "class Person:\n",
    "    def __init__(self):\n",
    "        self.name='Medhavi'\n",
    "        self.dob=self.DOB() #inner class object is created in outer class.\n",
    "    def display(self):\n",
    "        print(\"Name:\",self.name)\n",
    "        self.dob.display()\n",
    "    class DOB:\n",
    "        def __init__(self):\n",
    "            self.dd=26\n",
    "            self.mm=4\n",
    "            self.yyyy=1997\n",
    "        def display(self):\n",
    "            print('Date of birth: {}/{}/{}'.format(self.dd,self.mm,self.yyyy))\n",
    "p=Person() #once outer class object is created, inneer class object will be automatically created.\n",
    "#p.dob.display() # calling display method of inner class- DOB\n",
    "p.display() #calling display method of Outer class-Person."
   ]
  },
  {
   "cell_type": "markdown",
   "metadata": {},
   "source": [
    "### Nested Methods:\n",
    "- Advantage of using nested method is code reusability.<br>\n",
    "- It is not applicable in Java.<br>\n",
    "a. What is nested method?<br>\n",
    "b. When to use nested method?<br>\n",
    "c. How to declare nested method?<br>"
   ]
  },
  {
   "cell_type": "code",
   "execution_count": 23,
   "metadata": {},
   "outputs": [
    {
     "name": "stdout",
     "output_type": "stream",
     "text": [
      "1st arg: 10\n",
      "2nd arg: 20\n",
      "The sum: 30\n",
      "The product: 200\n",
      "********************\n",
      "1st arg: 100\n",
      "2nd arg: 200\n",
      "The sum: 300\n",
      "The product: 20000\n",
      "********************\n",
      "1st arg: 1000\n",
      "2nd arg: 2000\n",
      "The sum: 3000\n",
      "The product: 2000000\n",
      "********************\n"
     ]
    }
   ],
   "source": [
    "class Test:\n",
    "    def m1(self):\n",
    "        def sum(a,b):\n",
    "            print(\"1st arg:\",a)\n",
    "            print(\"2nd arg:\",b)\n",
    "            print(\"The sum:\",a+b)\n",
    "            print(\"The product:\",a*b)\n",
    "            print('*'*20)\n",
    "        sum(10,20)\n",
    "        sum(100,200)\n",
    "        sum(1000,2000)\n",
    "t=Test()\n",
    "t.m1()"
   ]
  },
  {
   "cell_type": "markdown",
   "metadata": {},
   "source": [
    "### Garbage Collection:\n",
    "- Garbage collector is an assistant provided by PVM to destroy useless objects.<br>\n",
    "- Python program is robust w.r.t memory problems. The chance of failing python program due to memory usage is very less . As it is taken care by garbage collector.<br>\n",
    "- Based on our requirement we can enable/disable garbage collector.<br>\n",
    "- By default it is enabled.<br>\n",
    "- To check whether the collector is enabled or not we have to import below module. <br>\n",
    "**gc module<br>\n",
    "1.gc.isenabled()<br>\n",
    "2.gc.enable()<br>\n",
    "3.gc.disable()**<br>\n",
    "- We can't conclude the exact behavior of GC.<br>"
   ]
  },
  {
   "cell_type": "code",
   "execution_count": 7,
   "metadata": {},
   "outputs": [
    {
     "name": "stdout",
     "output_type": "stream",
     "text": [
      "True\n",
      "False\n",
      "True\n"
     ]
    }
   ],
   "source": [
    "import gc\n",
    "print(gc.isenabled())\n",
    "gc.disable()\n",
    "print(gc.isenabled())\n",
    "gc.enable()\n",
    "print(gc.isenabled())"
   ]
  },
  {
   "cell_type": "markdown",
   "metadata": {},
   "source": [
    "### Destructors:"
   ]
  },
  {
   "cell_type": "markdown",
   "metadata": {},
   "source": [
    "- As we have constructor to create objects, there is also a concept called as destructor.<br>\n",
    "- Just before destroying an object, destructor is automatically called by GC to perform cleanup activity.<br>\n",
    "- Destructor will check for the objects connections to any network or databases, or any resources are already allocated for this object, etc and then the object will be detroyed by the GC.<br>\n",
    "- If you do not explicitly declare the destructor, then class object destructor will be automatically called by PVM which will do nothing and then GC will detsroy that objects.<br>\n",
    "- If the object is marked as None then GC will consider that object eligible for garbage collection as it is not pointig to any object.<br>\n",
    "t1=Test()<br>\n",
    "t1=None<br>\n",
    "Once T1 is marked as None, GC will call the destructor and the object will be detroyed.<br>\n",
    "- Even if we have not used gc module, GC is going to destroy the objects by default after execution of the program.<br>\n",
    "- GC module is used to explicitly enable/disable the GC.<br>\n",
    "- **For every object, destructor will be called separately.**<br>"
   ]
  },
  {
   "cell_type": "code",
   "execution_count": 32,
   "metadata": {},
   "outputs": [
    {
     "name": "stdout",
     "output_type": "stream",
     "text": [
      "False\n",
      "Object initialization\n",
      "performing cleanup activity\n",
      "End of Application\n"
     ]
    }
   ],
   "source": [
    "import time\n",
    "import gc\n",
    "class Test:\n",
    "    def __init__(self):\n",
    "        print(\"Object initialization\")\n",
    "    def __del__(self):\n",
    "        print(\"performing cleanup activity\")\n",
    "gc.disable() # even if it is disabled here, GC is going to destroy the object.\n",
    "print(gc.isenabled())\n",
    "t=Test()\n",
    "t=None\n",
    "time.sleep(10)\n",
    "print(\"End of Application\")"
   ]
  },
  {
   "cell_type": "code",
   "execution_count": 30,
   "metadata": {},
   "outputs": [
    {
     "name": "stdout",
     "output_type": "stream",
     "text": [
      "Object initialization\n",
      "After deleting t1, object is not destroyed\n",
      "After deleting t2 & t3, object is not eligible for GC\n",
      "performing cleanup activity\n",
      "End of Application\n"
     ]
    }
   ],
   "source": [
    "import time\n",
    "class Test:\n",
    "    def __init__(self):\n",
    "        print(\"Object initialization\")\n",
    "    def __del__(self): \n",
    "        print(\"performing cleanup activity\")\n",
    "t1=Test()\n",
    "t2=t1\n",
    "t3=t2\n",
    "t4=t3\n",
    "del t1\n",
    "time.sleep(5)\n",
    "print(\"After deleting t1, object is not destroyed\")\n",
    "del t2,t3\n",
    "time.sleep(5)\n",
    "print(\"After deleting t2 & t3, object is not eligible for GC\")\n",
    "time.sleep(5)\n",
    "del t4\n",
    "time.sleep(5)\n",
    "print(\"End of Application\")\n",
    "#In the above code, we have created 4 objref pointing to same object. So even if we delete any of them or three of them \n",
    "#then the object won't be destroyed. Once we delete all the references, then the object will be deleted."
   ]
  },
  {
   "cell_type": "code",
   "execution_count": 34,
   "metadata": {},
   "outputs": [
    {
     "name": "stdout",
     "output_type": "stream",
     "text": [
      "Object initialization\n",
      "Object initialization\n",
      "Object initialization\n",
      "---Objects are initialized separately.\n",
      "performing cleanup activity\n",
      "performing cleanup activity\n",
      "performing cleanup activity\n",
      "---destructor are called separately for every object.\n",
      "End of Application\n"
     ]
    }
   ],
   "source": [
    "import time\n",
    "class Test:\n",
    "    def __init__(self):\n",
    "        print(\"Object initialization\")\n",
    "    def __del__(self): \n",
    "        print(\"performing cleanup activity\")\n",
    "list=[Test(),Test(),Test()]\n",
    "print(\"---Objects are initialized separately.\")\n",
    "time.sleep(5)\n",
    "list=None\n",
    "print(\"---destructor are called separately for every object.\")\n",
    "time.sleep(5)\n",
    "print(\"End of Application\")"
   ]
  },
  {
   "cell_type": "markdown",
   "metadata": {},
   "source": [
    "### How to find the total references pointing to particular object."
   ]
  },
  {
   "cell_type": "code",
   "execution_count": 39,
   "metadata": {},
   "outputs": [
    {
     "name": "stdout",
     "output_type": "stream",
     "text": [
      "Object initialization\n",
      "Count of reference point of current object is 5\n"
     ]
    }
   ],
   "source": [
    "import sys\n",
    "class Test:\n",
    "    def __init__(self):\n",
    "        print(\"Object initialization\")\n",
    "t1=Test()\n",
    "t2=t1\n",
    "t3=t2\n",
    "t4=t3\n",
    "print(\"Count of reference point of current object is\",sys.getrefcount(t1))\n",
    "# 4 explicitely created references and one self reference always pointing to current object."
   ]
  },
  {
   "cell_type": "markdown",
   "metadata": {},
   "source": [
    "### Polymorphism:\n",
    "\n",
    "#### What is Polymorphism?  **One name but multiple forms.**\n",
    "- Poly means many, morph means forms.<br>\n",
    "- e.g. Behavior of a person. A person can have different type of behavior when he is with his Family,Friends,Teachers,etc.<br>\n"
   ]
  },
  {
   "cell_type": "markdown",
   "metadata": {},
   "source": [
    "### Operator Overloading:\n",
    "1. Method Overloading: Same method name with different arg types.<br>\n",
    "2. Operator Overloading: Same operator but different operatios/purpose.<br>\n",
    "e.g. 10+20=30<br>\n",
    "     'Medhavi'+'Jagtap'=MedhaviJagtap<br>\n",
    "In the above eg,'+' operator is performing addition as well as string concatenation.<br>\n",
    "3. To print objref, __ __str()__ __ will be called.<br>"
   ]
  },
  {
   "cell_type": "code",
   "execution_count": 5,
   "metadata": {},
   "outputs": [
    {
     "name": "stdout",
     "output_type": "stream",
     "text": [
      "600\n",
      "700\n",
      "500\n",
      "200\n",
      "80000\n"
     ]
    }
   ],
   "source": [
    "class Book:\n",
    "    def __init__(self,pages):\n",
    "        self.pages=pages\n",
    "    def __add__(self,other):\n",
    "        return self.pages+other.pages\n",
    "    def __sub__(self,other):\n",
    "        return self.pages-other.pages\n",
    "    def __mul__(self,other):\n",
    "        return self.pages*other.pages\n",
    "b1=Book(400)\n",
    "b2=Book(200)\n",
    "b3=Book(300)\n",
    "print(b1+b2)\n",
    "print(b1+b3)\n",
    "print(b2+b3)\n",
    "print(b1-b2)\n",
    "print(b1*b2)\n",
    "\n",
    "#print(b1+b2+b3) #this will give error as  b1+b2 return int is type which is adding to Book"
   ]
  },
  {
   "cell_type": "raw",
   "metadata": {},
   "source": [
    "**Arithmantic operator:**\n",
    "+  =>__add__()\n",
    "-  =>__sub__()\n",
    "*  =>__mul__()\n",
    "/  =>__div__()\n",
    "// =>__floordiv__()\n",
    "** =>__pow__()\n",
    "\n",
    "+=  =>__iadd__()\n",
    "-=  =>__isub__()\n",
    "*=  =>__imul__()\n",
    "/=  =>__idiv__()\n",
    "//= =>__ifloordiv__()\n",
    "**= =>__ipow__()\n",
    "\n",
    "**relational operator:**\n",
    ">  =>__gt__()\n",
    ">= =>__ge__()\n",
    "<  =>__lt__()\n",
    "<= =>__le__()\n",
    "== =>__eq__()\n",
    "!= =>__ne__()"
   ]
  },
  {
   "cell_type": "markdown",
   "metadata": {},
   "source": [
    "### Method Overloading:\n",
    "- **Python does not support method overloading or you can say, method overloading concept is not required in python.**<br>\n",
    "- Type concept is explicitely not available in python.<br>\n",
    "- For e.g. Let's say we have a method m1 in Java.<br>\n",
    "  m1(int i)<br>\n",
    "  m1(string j)<br>\n",
    "  m1(double k,int m)<br>\n",
    "- For above method m1, datat type is explicitely declared. Hence, method overloading can be supported.<br>\n",
    "- But in case of python, we  do not explicitly declare the type. So, m1(i),m1(j),m1(k,m) will be considered as same.<br>"
   ]
  },
  {
   "cell_type": "code",
   "execution_count": 1,
   "metadata": {},
   "outputs": [
    {
     "name": "stdout",
     "output_type": "stream",
     "text": [
      "10\n",
      "medha\n",
      "10.5\n",
      "(10+20j)\n"
     ]
    }
   ],
   "source": [
    "class Test:\n",
    "    def m1(self,i):\n",
    "        print(i)\n",
    "t=Test()\n",
    "t.m1(10)\n",
    "t.m1('medha')\n",
    "t.m1(10.5)\n",
    "t.m1(10+20j)"
   ]
  },
  {
   "cell_type": "markdown",
   "metadata": {},
   "source": [
    "#### Default arguement:"
   ]
  },
  {
   "cell_type": "code",
   "execution_count": 9,
   "metadata": {},
   "outputs": [
    {
     "name": "stdout",
     "output_type": "stream",
     "text": [
      "Sum is: 60\n",
      "The sum is: 30\n",
      "Please provide at least 2 arguments\n"
     ]
    }
   ],
   "source": [
    "class Test:\n",
    "    def sum(self,a=None,b=None,c=None):\n",
    "        if a!=None and b!=None and c!=None:\n",
    "            print(\"Sum is:\",a+b+c)\n",
    "        elif a!=None and b!=None:\n",
    "            print(\"The sum is:\",a+b)\n",
    "        else:\n",
    "            print(\"Please provide at least 2 arguments\")\n",
    "t=Test()\n",
    "t.sum(10,20,30)\n",
    "t.sum(10,20)\n",
    "t.sum(10)"
   ]
  },
  {
   "cell_type": "markdown",
   "metadata": {},
   "source": [
    "#### Variable length Argument:"
   ]
  },
  {
   "cell_type": "code",
   "execution_count": 19,
   "metadata": {},
   "outputs": [
    {
     "name": "stdout",
     "output_type": "stream",
     "text": [
      "The sum is: 3\n",
      "The sum is: 60\n",
      "The sum is: 100\n",
      "The sum is: 110\n",
      "The sum is: 10\n",
      "The sum is: 0\n"
     ]
    }
   ],
   "source": [
    "class Test:\n",
    "    def sum(self,*a): #internally a is tuple\n",
    "        total=0\n",
    "        for x in a:\n",
    "            total=total+x\n",
    "        print(\"The sum is:\", total)\n",
    "t=Test()\n",
    "t.sum(1,2)\n",
    "t.sum(10,20,30)\n",
    "t.sum(10,20,30,40)\n",
    "t.sum(10,20,30,50)\n",
    "t.sum(10)\n",
    "t.sum()"
   ]
  },
  {
   "cell_type": "raw",
   "metadata": {},
   "source": [
    "If there are multiple methods with same name then python will by default consider the last method"
   ]
  },
  {
   "cell_type": "code",
   "execution_count": 18,
   "metadata": {},
   "outputs": [
    {
     "name": "stdout",
     "output_type": "stream",
     "text": [
      "Two argument\n"
     ]
    }
   ],
   "source": [
    "class Test:\n",
    "    def m1(self):\n",
    "        print(\"no argument\")\n",
    "    def m1(self,a):\n",
    "        print(\"One argument\")\n",
    "    def m1(self,a,b):\n",
    "        print(\"Two argument\")\n",
    "t=Test()\n",
    "t.m1(10,20)\n",
    "#t.m1(10) #as there is only one value passed to the method,it will give an error because the last method requires 2 args."
   ]
  },
  {
   "cell_type": "code",
   "execution_count": null,
   "metadata": {},
   "outputs": [],
   "source": []
  }
 ],
 "metadata": {
  "kernelspec": {
   "display_name": "Python 3",
   "language": "python",
   "name": "python3"
  },
  "language_info": {
   "codemirror_mode": {
    "name": "ipython",
    "version": 3
   },
   "file_extension": ".py",
   "mimetype": "text/x-python",
   "name": "python",
   "nbconvert_exporter": "python",
   "pygments_lexer": "ipython3",
   "version": "3.7.6"
  }
 },
 "nbformat": 4,
 "nbformat_minor": 4
}
