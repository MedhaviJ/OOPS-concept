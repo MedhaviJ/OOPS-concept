{
 "cells": [
  {
   "cell_type": "markdown",
   "metadata": {},
   "source": [
    "Simple Bank Application to accept name from user and perform monetory transactions such as Deposite/Withdraw and display balance in the account."
   ]
  },
  {
   "cell_type": "code",
   "execution_count": null,
   "metadata": {},
   "outputs": [
    {
     "name": "stdout",
     "output_type": "stream",
     "text": [
      "Welcome to  Sate Bank of India\n",
      "Enter you name:Medhavi\n",
      "D-Deposite\n",
      "W-withdraw\n",
      "E-Exit\n",
      "Choose your option:d\n",
      "Enter the amount to deposite:100\n",
      "After deposite, the balance is:  100.0\n",
      "D-Deposite\n",
      "W-withdraw\n",
      "E-Exit\n",
      "Choose your option:w\n",
      "Enter the amount to withdraw:200\n",
      "Insufficient balance, cannot perform this operation\n",
      "After withdrawal,the balance is:  -100.0\n",
      "D-Deposite\n",
      "W-withdraw\n",
      "E-Exit\n"
     ]
    }
   ],
   "source": [
    "import sys\n",
    "class Customer:\n",
    "    '''Customer class with bank related operations'''\n",
    "    bankname='Sate Bank of India'\n",
    "    def __init__(self,name,balance=0):\n",
    "        self.name=name\n",
    "        self.balance=balance\n",
    "    def deposite(self,amt):\n",
    "        self.balance=self.balance+amt\n",
    "        print(\"After deposite, the balance is: \",self.balance)\n",
    "    def withdraw(self,amt):\n",
    "        if amt>self.balance:\n",
    "            print(\"Insufficient balance, cannot perform this operation\")\n",
    "            exit()         \n",
    "        self.balance=self.balance-amt\n",
    "        print(\"After withdrawal,the balance is: \",self.balance)\n",
    "print(\"Welcome to \",Customer.bankname)\n",
    "name=input(\"Enter you name:\")\n",
    "c1=Customer(name)\n",
    "while True:\n",
    "    print(\"D-Deposite\\nW-withdraw\\nE-Exit\")\n",
    "    option=input(\"Choose your option:\")\n",
    "    if option=='D' or option==\"d\":\n",
    "        amt=float(input(\"Enter the amount to deposite:\"))\n",
    "        c1.deposite(amt)\n",
    "    elif option.upper()=='W':\n",
    "        amt=float(input(\"Enter the amount to withdraw:\"))\n",
    "        c1.withdraw(amt)\n",
    "    elif option=='E'or option=='e':\n",
    "        print(\"Thank you for Banking with\",Customer.bankname)\n",
    "        break\n",
    "    else:\n",
    "        print(\"Choose valid option\")"
   ]
  },
  {
   "cell_type": "code",
   "execution_count": null,
   "metadata": {},
   "outputs": [],
   "source": []
  }
 ],
 "metadata": {
  "kernelspec": {
   "display_name": "Python 3",
   "language": "python",
   "name": "python3"
  },
  "language_info": {
   "codemirror_mode": {
    "name": "ipython",
    "version": 3
   },
   "file_extension": ".py",
   "mimetype": "text/x-python",
   "name": "python",
   "nbconvert_exporter": "python",
   "pygments_lexer": "ipython3",
   "version": "3.7.6"
  }
 },
 "nbformat": 4,
 "nbformat_minor": 4
}
